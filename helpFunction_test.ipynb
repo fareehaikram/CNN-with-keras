{
  "nbformat": 4,
  "nbformat_minor": 0,
  "metadata": {
    "colab": {
      "name": "helpFunction_test.ipynb",
      "provenance": [],
      "authorship_tag": "ABX9TyM3ape6lrqSOL6SXPjbdd9f",
      "include_colab_link": true
    },
    "kernelspec": {
      "name": "python3",
      "display_name": "Python 3"
    }
  },
  "cells": [
    {
      "cell_type": "markdown",
      "metadata": {
        "id": "view-in-github",
        "colab_type": "text"
      },
      "source": [
        "<a href=\"https://colab.research.google.com/github/fareehaikram/CNN-with-keras/blob/main/helpFunction_test.ipynb\" target=\"_parent\"><img src=\"https://colab.research.google.com/assets/colab-badge.svg\" alt=\"Open In Colab\"/></a>"
      ]
    },
    {
      "cell_type": "code",
      "metadata": {
        "id": "sebLoshT-HaZ"
      },
      "source": [
        ""
      ],
      "execution_count": null,
      "outputs": []
    },
    {
      "cell_type": "code",
      "metadata": {
        "id": "WygeQjEX1w7p"
      },
      "source": [
        "import keras\r\n",
        "import pandas as pd\r\n",
        "import numpy as np\r\n",
        "import glob\r\n",
        "\r\n",
        "from keras.preprocessing import image\r\n",
        "from keras.models import Model\r\n",
        "from keras.applications.vgg16 import preprocess_input\r\n",
        "from keras.preprocessing.image import ImageDataGenerator\r\n",
        "import os,shutil\r\n",
        "from keras import models,layers,optimizers\r\n",
        "from keras.layers import Dense, Activation, Flatten, Dropout, BatchNormalization\r\n",
        "\r\n",
        "import cv2\r\n",
        "\r\n",
        "from imutils import paths\r\n",
        "from sklearn.preprocessing import LabelBinarizer\r\n",
        "from tqdm import tqdm\r\n",
        "from keras.applications.vgg16 import VGG16\r\n",
        "\r\n",
        "from keras.applications.vgg16 import preprocess_input"
      ],
      "execution_count": null,
      "outputs": []
    },
    {
      "cell_type": "code",
      "metadata": {
        "colab": {
          "base_uri": "https://localhost:8080/"
        },
        "id": "FWgP0MOm_Yiq",
        "outputId": "1d7cd697-5467-41c5-bbe5-bb0ab4255a20"
      },
      "source": [
        "'''CLASSIFICATION REPORT'''\r\n",
        "def class_rep(X_test,y_test,saved_model,predictions):\r\n",
        "  from sklearn.metrics import classification_report\r\n",
        "  \r\n",
        "  classes=['sea', 'forest', 'street', 'mountain', 'buildings', 'glacier']\r\n",
        "#predictions.shape\r\n",
        "  print(classification_report(y_test.argmax(axis=1), predictions.argmax(axis=1), target_names=classes))"
      ],
      "execution_count": null,
      "outputs": [
        {
          "output_type": "stream",
          "text": [
            "              precision    recall  f1-score   support\n",
            "\n",
            "         sea       0.87      0.92      0.89      1144\n",
            "      forest       0.96      0.97      0.96      1166\n",
            "      street       0.88      0.81      0.84      1330\n",
            "    mountain       0.81      0.84      0.83      1297\n",
            "   buildings       0.92      0.84      0.88      1128\n",
            "     glacier       0.89      0.94      0.91      1236\n",
            "\n",
            "    accuracy                           0.88      7301\n",
            "   macro avg       0.89      0.89      0.89      7301\n",
            "weighted avg       0.88      0.88      0.88      7301\n",
            "\n"
          ],
          "name": "stdout"
        }
      ]
    },
    {
      "cell_type": "code",
      "metadata": {
        "colab": {
          "base_uri": "https://localhost:8080/"
        },
        "id": "JKrTWb1V_Yis",
        "outputId": "139202b3-5ded-46a7-aa45-c3fcee5592ba"
      },
      "source": [
        "def test_image(img_path,saved_model):\r\n",
        "  import numpy as np\r\n",
        "  img = image.load_img(img_path, target_size=(150, 150))\r\n",
        "  x = image.img_to_array(img)\r\n",
        "  x = np.expand_dims(x, axis=0)\r\n",
        "  print(np.shape(x))\r\n",
        "  x = preprocess_input(x)\r\n",
        "  preds = saved_model.predict(x)\r\n",
        "  import numpy as np\r\n",
        "\r\n",
        "  classes=['sea', 'forest', 'street', 'mountain', 'buildings', 'glacier']\r\n",
        "\r\n",
        "  pred_labels = np.argmax (preds, axis = -1)\r\n",
        "#  print (pred_labels) # [2 0 0 2 2 2 4 2 3 3]\r\n",
        "# When replaced with a label name\r\n",
        "  pred_label_names = [classes [x] for x in pred_labels]\r\n",
        "  print (pred_label_names) \r\n",
        "  # visualize some images\r\n",
        "  import matplotlib.pyplot as plt\r\n",
        "  import matplotlib.image as mpimg\r\n",
        "  %matplotlib inline\r\n",
        "\r\n",
        "  plt.imshow(img)\r\n",
        "  plt.title(pred_label_names)"
      ],
      "execution_count": null,
      "outputs": [
        {
          "output_type": "stream",
          "text": [
            "(1, 150, 150, 3)\n"
          ],
          "name": "stdout"
        }
      ]
    },
    {
      "cell_type": "code",
      "metadata": {
        "id": "k_UbDsf5di5v",
        "colab": {
          "base_uri": "https://localhost:8080/"
        },
        "outputId": "507fd1ae-cffb-4b1a-ff2a-fbf23dec5093"
      },
      "source": [
        "def Evaluate_model(X_test,y_test,saved_model):\r\n",
        "  score = saved_model.evaluate(X_test, y_test, batch_size=32)\r\n",
        "  print('Test Loss = ', score[0])\r\n",
        "  print('Test Accuracy = ', score[1])"
      ],
      "execution_count": null,
      "outputs": [
        {
          "output_type": "stream",
          "text": [
            "229/229 [==============================] - 1182s 5s/step - loss: 0.3307 - accuracy: 0.8837\n",
            "Test Loss =  0.3306822180747986\n",
            "Test Accuracy =  0.8837145566940308\n"
          ],
          "name": "stdout"
        }
      ]
    },
    {
      "cell_type": "code",
      "metadata": {
        "id": "VzdzKY8hMKh7"
      },
      "source": [
        "def Confusion_mat(y_test,predictions):\r\n",
        "  classes=['sea', 'forest', 'street', 'mountain', 'buildings', 'glacier']\r\n",
        "\r\n",
        "  from sklearn.metrics import confusion_matrix\r\n",
        "  cofusion_mtx=confusion_matrix(y_test.argmax(axis=-1), predictions.argmax(axis=-1))\r\n",
        "  print(cofusion_mtx)\r\n",
        "  #CM = confusion_matrix(test_labels, pred_labels)\r\n",
        "  import matplotlib.pyplot as plt\r\n",
        "  import seaborn as sn\r\n",
        "  ax = plt.axes()\r\n",
        "  sn.heatmap(cofusion_mtx, annot=True, \r\n",
        "           annot_kws={\"size\": 10}, \r\n",
        "           xticklabels=classes, \r\n",
        "           yticklabels=classes, ax = ax)\r\n",
        "  ax.set_title('Confusion matrix')\r\n",
        "  plt.show()\r\n",
        "  #act = pd.Series(y_test,name='Actual')\r\n",
        "  #pred = pd.Series(predictions,name='Predicted')\r\n",
        "  #confusion_matrix = pd.crosstab(act, pred,margins=True)\r\n",
        "  print(\"Confusion matrix:\\n%s\" % confusion_matrix)"
      ],
      "execution_count": null,
      "outputs": []
    }
  ]
}