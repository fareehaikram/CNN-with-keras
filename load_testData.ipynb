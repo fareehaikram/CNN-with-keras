{
  "nbformat": 4,
  "nbformat_minor": 0,
  "metadata": {
    "colab": {
      "name": "load_testData.ipynb",
      "provenance": [],
      "authorship_tag": "ABX9TyMsLYAI+y4Hwa50FnlkbtfY",
      "include_colab_link": true
    },
    "kernelspec": {
      "name": "python3",
      "display_name": "Python 3"
    }
  },
  "cells": [
    {
      "cell_type": "markdown",
      "metadata": {
        "id": "view-in-github",
        "colab_type": "text"
      },
      "source": [
        "<a href=\"https://colab.research.google.com/github/fareehaikram/CNN-with-keras/blob/main/load_testData.ipynb\" target=\"_parent\"><img src=\"https://colab.research.google.com/assets/colab-badge.svg\" alt=\"Open In Colab\"/></a>"
      ]
    },
    {
      "cell_type": "code",
      "metadata": {
        "id": "wNg0uHW1KERO"
      },
      "source": [
        ""
      ],
      "execution_count": null,
      "outputs": []
    },
    {
      "cell_type": "code",
      "metadata": {
        "id": "WygeQjEX1w7p"
      },
      "source": [
        "import keras\r\n",
        "import pandas as pd\r\n",
        "import numpy as np\r\n",
        "import glob\r\n",
        "\r\n",
        "from keras.preprocessing import image\r\n",
        "from keras.models import Model\r\n",
        "from keras.applications.vgg16 import preprocess_input\r\n",
        "from keras.preprocessing.image import ImageDataGenerator\r\n",
        "import os,shutil\r\n",
        "from keras import models,layers,optimizers\r\n",
        "from keras.layers import Dense, Activation, Flatten, Dropout, BatchNormalization\r\n",
        "\r\n",
        "import cv2\r\n",
        "\r\n",
        "from imutils import paths\r\n",
        "from sklearn.preprocessing import LabelBinarizer\r\n",
        "from tqdm import tqdm\r\n",
        "from keras.applications.vgg16 import VGG16\r\n",
        "\r\n",
        "from keras.applications.vgg16 import preprocess_input"
      ],
      "execution_count": null,
      "outputs": []
    },
    {
      "cell_type": "code",
      "metadata": {
        "id": "jGF2psrXKfAF"
      },
      "source": [
        "# A function to load data from a given directory\r\n",
        "def load_data(data_dir):\r\n",
        "  data = []\r\n",
        "  labels = []\r\n",
        "  class_dirs = os.listdir(data_dir)\r\n",
        "  #print(class_dirs)\r\n",
        "  \r\n",
        "  for direc in class_dirs:\r\n",
        "    class_dir = os.path.join(data_dir, direc)\r\n",
        "    for imagepath in tqdm(list(paths.list_images(class_dir))):\r\n",
        "      image = cv2.imread(imagepath)\r\n",
        "      image = cv2.resize(image, (150, 150))  # incase images not of same size\r\n",
        "      data.append(image)\r\n",
        "      labels.append(direc)\r\n",
        "  # normalizing and converting to numpy array format\r\n",
        "  data = np.array(data, dtype='float')/255.0\r\n",
        "  labels = np.array(labels)\r\n",
        "  return data, labels"
      ],
      "execution_count": null,
      "outputs": []
    },
    {
      "cell_type": "code",
      "metadata": {
        "id": "b0ikjGMN_Yij"
      },
      "source": [
        "from keras.models import load_model\r\n",
        "saved_model = load_model(\"/content/drive/MyDrive/CVAssg3/vgg16_trained_wts (1).h5\")"
      ],
      "execution_count": null,
      "outputs": []
    },
    {
      "cell_type": "code",
      "metadata": {
        "colab": {
          "base_uri": "https://localhost:8080/",
          "height": 367
        },
        "id": "xGBty3g7_Yim",
        "outputId": "68ca7a84-93af-4b59-fbf0-2313c26a8013"
      },
      "source": [
        "\r\n",
        "test_dir = \"/content/seg_pred/seg_pred\"\r\n",
        "\r\n",
        "\r\n",
        "\r\n",
        "print('loading test images')\r\n",
        "X_test, y_test = load_data(test_dir)\r\n",
        "\r\n",
        "\r\n"
      ],
      "execution_count": null,
      "outputs": [
        {
          "output_type": "stream",
          "text": [
            "loading test images\n"
          ],
          "name": "stdout"
        },
        {
          "output_type": "error",
          "ename": "FileNotFoundError",
          "evalue": "ignored",
          "traceback": [
            "\u001b[0;31m---------------------------------------------------------------------------\u001b[0m",
            "\u001b[0;31mFileNotFoundError\u001b[0m                         Traceback (most recent call last)",
            "\u001b[0;32m<ipython-input-7-0ceb8c019bc8>\u001b[0m in \u001b[0;36m<module>\u001b[0;34m()\u001b[0m\n\u001b[1;32m      7\u001b[0m \u001b[0;31m#X_train, y_train = load_data(train_dir)\u001b[0m\u001b[0;34m\u001b[0m\u001b[0;34m\u001b[0m\u001b[0;34m\u001b[0m\u001b[0m\n\u001b[1;32m      8\u001b[0m \u001b[0mprint\u001b[0m\u001b[0;34m(\u001b[0m\u001b[0;34m'loading test images'\u001b[0m\u001b[0;34m)\u001b[0m\u001b[0;34m\u001b[0m\u001b[0;34m\u001b[0m\u001b[0m\n\u001b[0;32m----> 9\u001b[0;31m \u001b[0mX_test\u001b[0m\u001b[0;34m,\u001b[0m \u001b[0my_test\u001b[0m \u001b[0;34m=\u001b[0m \u001b[0mload_data\u001b[0m\u001b[0;34m(\u001b[0m\u001b[0mtest_dir\u001b[0m\u001b[0;34m)\u001b[0m\u001b[0;34m\u001b[0m\u001b[0;34m\u001b[0m\u001b[0m\n\u001b[0m\u001b[1;32m     10\u001b[0m \u001b[0;31m#print(np.shape(y_test))\u001b[0m\u001b[0;34m\u001b[0m\u001b[0;34m\u001b[0m\u001b[0;34m\u001b[0m\u001b[0m\n\u001b[1;32m     11\u001b[0m \u001b[0;31m#print('loading validation images')\u001b[0m\u001b[0;34m\u001b[0m\u001b[0;34m\u001b[0m\u001b[0;34m\u001b[0m\u001b[0m\n",
            "\u001b[0;32m<ipython-input-5-da2627b0e892>\u001b[0m in \u001b[0;36mload_data\u001b[0;34m(data_dir)\u001b[0m\n\u001b[1;32m      3\u001b[0m   \u001b[0mdata\u001b[0m \u001b[0;34m=\u001b[0m \u001b[0;34m[\u001b[0m\u001b[0;34m]\u001b[0m\u001b[0;34m\u001b[0m\u001b[0;34m\u001b[0m\u001b[0m\n\u001b[1;32m      4\u001b[0m   \u001b[0mlabels\u001b[0m \u001b[0;34m=\u001b[0m \u001b[0;34m[\u001b[0m\u001b[0;34m]\u001b[0m\u001b[0;34m\u001b[0m\u001b[0;34m\u001b[0m\u001b[0m\n\u001b[0;32m----> 5\u001b[0;31m   \u001b[0mclass_dirs\u001b[0m \u001b[0;34m=\u001b[0m \u001b[0mos\u001b[0m\u001b[0;34m.\u001b[0m\u001b[0mlistdir\u001b[0m\u001b[0;34m(\u001b[0m\u001b[0mdata_dir\u001b[0m\u001b[0;34m)\u001b[0m\u001b[0;34m\u001b[0m\u001b[0;34m\u001b[0m\u001b[0m\n\u001b[0m\u001b[1;32m      6\u001b[0m   \u001b[0;31m#print(class_dirs)\u001b[0m\u001b[0;34m\u001b[0m\u001b[0;34m\u001b[0m\u001b[0;34m\u001b[0m\u001b[0m\n\u001b[1;32m      7\u001b[0m \u001b[0;34m\u001b[0m\u001b[0m\n",
            "\u001b[0;31mFileNotFoundError\u001b[0m: [Errno 2] No such file or directory: '/content/seg_pred/seg_pred'"
          ]
        }
      ]
    },
    {
      "cell_type": "code",
      "metadata": {
        "id": "e19rIp37_Yip"
      },
      "source": [
        "\r\n",
        "lb = LabelBinarizer()\r\n",
        "\r\n",
        "y_test = lb.fit_transform(y_test)\r\n"
      ],
      "execution_count": null,
      "outputs": []
    }
  ]
}